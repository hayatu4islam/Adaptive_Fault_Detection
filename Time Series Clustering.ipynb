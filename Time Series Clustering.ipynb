{
 "cells": [
  {
   "cell_type": "markdown",
   "id": "0881d9bc-e073-46e4-9ef7-818abe68f3b5",
   "metadata": {},
   "source": [
    "### Time Series Clustering"
   ]
  },
  {
   "cell_type": "code",
   "execution_count": 2,
   "id": "594cbaa0-0254-467b-8c5e-67cc65d40ee6",
   "metadata": {},
   "outputs": [],
   "source": [
    "# importing libraries\n",
    "import numpy as np\n",
    "import pandas as pd\n",
    "import matplotlib.pyplot as plt"
   ]
  },
  {
   "cell_type": "code",
   "execution_count": 4,
   "id": "184deffe-9357-4d6d-bc85-9b470f3a415c",
   "metadata": {},
   "outputs": [
    {
     "name": "stdout",
     "output_type": "stream",
     "text": [
      "Cluatering\n"
     ]
    }
   ],
   "source": [
    "print(\"Cluatering\")"
   ]
  },
  {
   "cell_type": "code",
   "execution_count": null,
   "id": "3ed32c51-75d1-4277-b50b-25b8aeed7a5d",
   "metadata": {},
   "outputs": [],
   "source": []
  }
 ],
 "metadata": {
  "kernelspec": {
   "display_name": "Python 3 (ipykernel)",
   "language": "python",
   "name": "python3"
  },
  "language_info": {
   "codemirror_mode": {
    "name": "ipython",
    "version": 3
   },
   "file_extension": ".py",
   "mimetype": "text/x-python",
   "name": "python",
   "nbconvert_exporter": "python",
   "pygments_lexer": "ipython3",
   "version": "3.10.2"
  }
 },
 "nbformat": 4,
 "nbformat_minor": 5
}
