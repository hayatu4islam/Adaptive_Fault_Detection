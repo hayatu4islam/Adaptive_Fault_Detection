{
 "cells": [
  {
   "cell_type": "code",
   "execution_count": 12,
   "id": "5155ca38-c810-4c09-b518-14785299dd84",
   "metadata": {},
   "outputs": [],
   "source": [
    "import pickle\n",
    "import pandas as pd\n",
    "from statsmodels.tsa.api import VAR"
   ]
  },
  {
   "cell_type": "code",
   "execution_count": 13,
   "id": "2dc0d1b6-4210-4903-9fb6-f87f79a46124",
   "metadata": {},
   "outputs": [],
   "source": [
    "# with open('var_golden_model.pkl', 'rb') as f:\n",
    "#     data = pickle.load(f)\n",
    "    \n",
    "# print(data)\n",
    "\n"
   ]
  },
  {
   "cell_type": "code",
   "execution_count": 14,
   "id": "4f32aeaf-90ce-4577-994e-59d8436379f0",
   "metadata": {},
   "outputs": [],
   "source": [
    "my_object = {'name': 'John', 'age': 30}\n",
    "\n",
    "with open('my_object.pickle', 'wb') as file:\n",
    "    pickle.dump(my_object, file)"
   ]
  },
  {
   "cell_type": "code",
   "execution_count": 15,
   "id": "e306d23c-6f17-4677-97e3-18ad53497aa9",
   "metadata": {},
   "outputs": [
    {
     "name": "stdout",
     "output_type": "stream",
     "text": [
      "{'name': 'John', 'age': 30}\n"
     ]
    }
   ],
   "source": [
    "with open('my_object.pickle', 'rb') as file:\n",
    "    loaded_object = pickle.load(file)\n",
    "\n",
    "print(loaded_object)"
   ]
  },
  {
   "cell_type": "code",
   "execution_count": 18,
   "id": "4890787e-c1af-4e41-a839-6ae1ddcdbb9d",
   "metadata": {},
   "outputs": [
    {
     "name": "stdout",
     "output_type": "stream",
     "text": [
      "<statsmodels.tsa.vector_ar.var_model.VARResultsWrapper object at 0x000001A021A718D0>\n"
     ]
    }
   ],
   "source": [
    "with open('var_golden_model_reduced.pkl', 'rb') as file:\n",
    "    loaded_object = pickle.load(file)\n",
    "\n",
    "print(loaded_object)"
   ]
  },
  {
   "cell_type": "code",
   "execution_count": null,
   "id": "ea9ea510-e273-4aa5-aa88-6e820b142566",
   "metadata": {},
   "outputs": [],
   "source": []
  }
 ],
 "metadata": {
  "kernelspec": {
   "display_name": "Python 3 (ipykernel)",
   "language": "python",
   "name": "python3"
  },
  "language_info": {
   "codemirror_mode": {
    "name": "ipython",
    "version": 3
   },
   "file_extension": ".py",
   "mimetype": "text/x-python",
   "name": "python",
   "nbconvert_exporter": "python",
   "pygments_lexer": "ipython3",
   "version": "3.10.2"
  }
 },
 "nbformat": 4,
 "nbformat_minor": 5
}
