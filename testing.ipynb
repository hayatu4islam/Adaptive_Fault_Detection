{
 "cells": [
  {
   "cell_type": "code",
   "execution_count": 1,
   "id": "5155ca38-c810-4c09-b518-14785299dd84",
   "metadata": {},
   "outputs": [],
   "source": [
    "import pickle\n",
    "import pandas as pd\n",
    "import os\n",
    "from statsmodels.tsa.api import VAR"
   ]
  },
  {
   "cell_type": "code",
   "execution_count": 2,
   "id": "2dc0d1b6-4210-4903-9fb6-f87f79a46124",
   "metadata": {},
   "outputs": [],
   "source": [
    "# with open('var_golden_model.pkl', 'rb') as f:\n",
    "#     data = pickle.load(f)\n",
    "    \n",
    "# print(data)\n",
    "\n"
   ]
  },
  {
   "cell_type": "code",
   "execution_count": 3,
   "id": "4f32aeaf-90ce-4577-994e-59d8436379f0",
   "metadata": {},
   "outputs": [],
   "source": [
    "# my_object = {'name': 'John', 'age': 30}\n",
    "\n",
    "# with open('my_object.pickle', 'wb') as file:\n",
    "#     pickle.dump(my_object, file)"
   ]
  },
  {
   "cell_type": "code",
   "execution_count": 4,
   "id": "e306d23c-6f17-4677-97e3-18ad53497aa9",
   "metadata": {},
   "outputs": [
    {
     "name": "stdout",
     "output_type": "stream",
     "text": [
      "{'name': 'John', 'age': 30}\n"
     ]
    }
   ],
   "source": [
    "# with open('my_object.pickle', 'rb') as file:\n",
    "#     loaded_object = pickle.load(file)\n",
    "\n",
    "# print(loaded_object)"
   ]
  },
  {
   "cell_type": "code",
   "execution_count": 5,
   "id": "4890787e-c1af-4e41-a839-6ae1ddcdbb9d",
   "metadata": {},
   "outputs": [
    {
     "name": "stdout",
     "output_type": "stream",
     "text": [
      "<statsmodels.tsa.vector_ar.var_model.VARResultsWrapper object at 0x0000021D97256A40>\n"
     ]
    }
   ],
   "source": [
    "with open('var_golden_model_reduced.pkl', 'rb') as file:\n",
    "    loaded_object = pickle.load(file)\n",
    "\n",
    "print(loaded_object)"
   ]
  },
  {
   "cell_type": "code",
   "execution_count": 12,
   "id": "ea9ea510-e273-4aa5-aa88-6e820b142566",
   "metadata": {},
   "outputs": [
    {
     "name": "stdout",
     "output_type": "stream",
     "text": [
      "{'var_ctrl_stuckat0_perm_reduced': <statsmodels.tsa.vector_ar.var_model.VARResultsWrapper object at 0x0000021D9A9BC310>, 'var_ctrl_stuckat1_perm_reduced': <statsmodels.tsa.vector_ar.var_model.VARResultsWrapper object at 0x0000021D99488F70>, 'var_ctrl_valueFlip_perm_reduced': <statsmodels.tsa.vector_ar.var_model.VARResultsWrapper object at 0x0000021D9A7BD9F0>, 'var_golden_model_reduced': <statsmodels.tsa.vector_ar.var_model.VARResultsWrapper object at 0x0000021D9A7BF850>}\n"
     ]
    }
   ],
   "source": [
    "def load_expert_models(expert_path):\n",
    "    files = os.listdir(expert_path)\n",
    "    pickle_files = [file for file in files if file.endswith('.pkl')]\n",
    "    models = {}\n",
    "\n",
    "    for file in pickle_files:\n",
    "        with open(file, 'rb') as f:\n",
    "            models[file.split('.')[0]] = pickle.load(f)\n",
    "\n",
    "    return models\n",
    "\n",
    "expert_path = 'expert_models'\n",
    "my_experts = load_expert_models(expert_path)\n",
    "print(my_experts)"
   ]
  },
  {
   "cell_type": "code",
   "execution_count": null,
   "id": "c6a2ced9-f179-4e71-9439-8f196d13ce3c",
   "metadata": {},
   "outputs": [],
   "source": []
  }
 ],
 "metadata": {
  "kernelspec": {
   "display_name": "Python 3 (ipykernel)",
   "language": "python",
   "name": "python3"
  },
  "language_info": {
   "codemirror_mode": {
    "name": "ipython",
    "version": 3
   },
   "file_extension": ".py",
   "mimetype": "text/x-python",
   "name": "python",
   "nbconvert_exporter": "python",
   "pygments_lexer": "ipython3",
   "version": "3.10.2"
  }
 },
 "nbformat": 4,
 "nbformat_minor": 5
}
