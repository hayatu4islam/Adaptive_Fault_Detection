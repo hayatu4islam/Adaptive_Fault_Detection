{
 "cells": [
  {
   "cell_type": "markdown",
   "id": "a7fb8991-26fd-485f-bdea-db4210cb86da",
   "metadata": {},
   "source": [
    "### Adaptive Fault Detection with VAR Models"
   ]
  },
  {
   "cell_type": "markdown",
   "id": "fdd88b48-45f7-4061-b2a1-796ccc1b4a7a",
   "metadata": {},
   "source": [
    "##### Import libraries needed"
   ]
  },
  {
   "cell_type": "code",
   "execution_count": 16,
   "id": "d6bf16cb-e4ad-433b-b766-cb8db2ba4a8d",
   "metadata": {},
   "outputs": [],
   "source": [
    "# importing packages and libraries\n",
    "from pandas import read_csv\n",
    "import pandas as pd\n",
    "import numpy as np\n",
    "import pickle\n",
    "import os\n",
    "from statsmodels.tsa.api import VAR\n",
    "import matplotlib.pyplot as plt\n",
    "\n",
    "# Ignoe harmless warnings\n",
    "import warnings\n",
    "warnings.filterwarnings(\"ignore\")\n",
    "\n",
    "# Define the plot size default\n",
    "from pylab import rcParams\n",
    "rcParams['figure.figsize'] = (12, 5)"
   ]
  },
  {
   "cell_type": "markdown",
   "id": "90a927d1-92a1-4fad-a170-98679fb7c154",
   "metadata": {},
   "source": [
    "### Defining methods or functions"
   ]
  },
  {
   "cell_type": "code",
   "execution_count": 17,
   "id": "b3720217-1183-4f5b-8fdd-2d324345f026",
   "metadata": {},
   "outputs": [],
   "source": [
    "# Plotting multiple series\n",
    "def plot_multiple_series(actual, pred, attr):\n",
    "    for i in range(len(attr)):\n",
    "        title = \"Prediction of {}\".format(attr[i])\n",
    "        plt.title(title)\n",
    "        plt.xlabel(\"Timestep\")\n",
    "        plt.ylabel(\"Values\")\n",
    "        plt.plot(actual.iloc[:,i], label=\"actual\")\n",
    "        plt.plot(pred.iloc[:,i], label=\"forecast\")\n",
    "        plt.legend()\n",
    "        plt.show()\n",
    "\n",
    "\n",
    "# Root mean squared error\n",
    "def root_mse(x, y):\n",
    "    if len(x) != len(y):\n",
    "        return \"Error: The two arguments must have the same length\"\n",
    "    mse = np.square(np.subtract(x, y)).mean()\n",
    "    return np.sqrt(mse)\n",
    "\n",
    "# Plotting series\n",
    "def plot_series(series, attr):\n",
    "    for i in range(len(attr)):\n",
    "        title = \"Plot of \"+str(attr[i])\n",
    "        actual = series.iloc[:,i]\n",
    "        plt.title(title)\n",
    "        plt.xlabel(\"Timestep\")\n",
    "        plt.ylabel(attr[i])\n",
    "        plt.plot(actual)\n",
    "        plt.show()\n",
    "\n",
    "# Normalisation of time series\n",
    "def normalise_timeseries(data):\n",
    "    # Calculate the mean and standard deviation for each feature\n",
    "    means = np.mean(data, axis=0)\n",
    "    stds = np.std(data, axis=0)\n",
    "    \n",
    "    # Normalise each feature using standard deviation\n",
    "    normalised_data = (data - means) / stds\n",
    "    return pd.DataFrame(normalised_data)\n",
    "\n",
    "\n",
    "# Denomalisation of time series\n",
    "def denormalise_timeseries(data, means, stds):\n",
    "    denormalised_data = (data * stds) + means\n",
    "    return pd.DataFrame(denormalised_data)\n",
    "\n",
    "\n",
    "# Augmented Dickey-Fuller Test\n",
    "def adf_test(series, title=''):\n",
    "    '''\n",
    "    Hypothesis Test for Stationarity\n",
    "    Pass in a time series and an optional title, return an ADF report\n",
    "    '''\n",
    "    print(f'Augmented Dickey-Fuller Test: {title}')\n",
    "    result = adfuller(series.dropna(),autolag='AIC')\n",
    "    labels = ['ADF test statistics','p-value','#lags','#observations'] # use help(adfuller) to understand why these labels are chosen\n",
    "    \n",
    "    outcome = pd.Series(result[0:4],index=labels)\n",
    "    \n",
    "    for key,val in result[4].items():\n",
    "        outcome[f'critical value ({key})'] = val\n",
    "        \n",
    "    print(outcome.to_string()) # this will not print the line 'dtype:float64'\n",
    "    \n",
    "    if result[1] <= 0.05:\n",
    "        print('Strong evidence against the null hypothesis') # Ho is Data is not stationary, check help(adfuller)\n",
    "        print('Reject the null hypothesis')\n",
    "        print('Data is Stationary')\n",
    "    else:\n",
    "        print('Weak evidence against the Null hypothesis')\n",
    "        print('Fail to reject the null hypothesis')\n",
    "        print('Data has a unit root and is non stationary')\n",
    "\n",
    "\n",
    "# Loading expert models in a dictionary\n",
    "def load_expert_models(expert_path):\n",
    "    files = os.listdir(expert_path)\n",
    "    pickle_files = [file for file in files if file.endswith('.pkl')]\n",
    "    models = {}\n",
    "\n",
    "    for file in pickle_files:\n",
    "        with open(file, 'rb') as f:\n",
    "            models[file.split('.')[0]] = pickle.load(f)\n",
    "\n",
    "    return models\n"
   ]
  },
  {
   "cell_type": "code",
   "execution_count": 18,
   "id": "906ba73d-7a64-47b5-83c0-885b814b55e2",
   "metadata": {},
   "outputs": [],
   "source": [
    "# Assigning variables\n",
    "# file = 'test_series_reduced.csv'\n",
    "# file = 'stuckat1_training_reduced_new.csv'\n",
    "file = 'valueflip_training_reduced_new.csv'\n",
    "# file = 'stuckat1_training_reduced.csv'\n",
    "expert_path = 'expert_models'\n",
    "df_raw = read_csv(file, header=0, index_col=0)\n",
    "attr = list(pd.read_csv(file).columns.values)[1:]\n",
    "series = df_raw.iloc[:40000,:]\n",
    "# plot_series(series, attr)\n",
    "nobs = 3000\n",
    "steps = 15\n",
    "begin = 2000\n",
    "finish = 2200\n",
    "normalised_data = normalise_timeseries(df_raw)\n",
    "testData = normalised_data.copy()\n",
    "train = testData.iloc[:-nobs]\n",
    "test = testData.iloc[-nobs:]\n",
    "# len(train), len(test)\n",
    "input1 = testData.iloc[begin:finish,:]\n",
    "# plot_series(input1, attr)\n",
    "prediction_error = {}"
   ]
  },
  {
   "cell_type": "code",
   "execution_count": 19,
   "id": "8ec906ac-c777-460e-bae0-96c6883702b9",
   "metadata": {},
   "outputs": [],
   "source": [
    "# Threshold prediction error value\n",
    "threshold = 0"
   ]
  },
  {
   "cell_type": "code",
   "execution_count": 20,
   "id": "8dd338af-bf6b-4075-9492-924feb7a1890",
   "metadata": {},
   "outputs": [
    {
     "name": "stdout",
     "output_type": "stream",
     "text": [
      "<statsmodels.tsa.vector_ar.var_model.VARResultsWrapper object at 0x000001F3D6BCA620>\n"
     ]
    }
   ],
   "source": [
    "# Load the expert models\n",
    "my_experts = load_expert_models(expert_path)\n",
    "# print(my_experts)\n",
    "print(my_experts['var_ctrl_stuckat0_perm_reduced'])\n"
   ]
  },
  {
   "cell_type": "code",
   "execution_count": 21,
   "id": "666ba690-ccb4-4290-bcd3-bc14501f3f6b",
   "metadata": {},
   "outputs": [
    {
     "name": "stdout",
     "output_type": "stream",
     "text": [
      "    Tank2OutFlow  Tank2.puddle  Tank3OutFlow  Tank2.level  wt3_valve\n",
      "0       0.166941     -1.412529     -3.252720     0.040152  -2.849662\n",
      "1       0.141700     -1.413880     -3.841274     0.590707  -1.091605\n",
      "2       0.125553     -1.416389     -2.842014     0.845684  -2.906553\n",
      "3       0.143341     -1.417214     -3.380680     1.324351  -1.242575\n",
      "4       0.172841     -1.418933     -2.440453     1.545943  -2.931201\n",
      "5       0.164743     -1.419439     -2.970947     1.959229  -1.345504\n",
      "6       0.128176     -1.420603     -2.085089     2.153137  -2.904582\n",
      "7       0.124630     -1.420797     -2.569727     2.501561  -1.359546\n",
      "8       0.153424     -1.421382     -1.629034     2.657553  -2.977493\n",
      "9       0.170109     -1.421457     -2.398997     2.964665  -1.487252\n",
      "10      0.151343     -1.421773     -1.431840     3.113451  -2.891778\n",
      "11      0.126945     -1.421606     -2.083941     3.371359  -1.536687\n",
      "12      0.127460     -1.421550     -1.195921     3.499899  -2.744520\n",
      "13      0.152256     -1.421207     -1.755004     3.713045  -1.434805\n",
      "14      0.166922     -1.420602     -0.890858     3.808507  -2.517193\n"
     ]
    }
   ],
   "source": [
    "pred = my_experts['var_ctrl_stuckat0_perm_reduced'].forecast(input1.values, steps=steps)\n",
    "pred_df = pd.DataFrame(pred, columns=input1.columns)\n",
    "print(pred_df)"
   ]
  },
  {
   "cell_type": "code",
   "execution_count": 22,
   "id": "10c9a5a2-9739-4fe1-9d04-cbef597195fa",
   "metadata": {},
   "outputs": [
    {
     "name": "stdout",
     "output_type": "stream",
     "text": [
      "{'var_ctrl_stuckat0_perm_reduced': [0.004098851929610022, 0.011669309952683815, 2.013310786919584, 2.238071436133283, 1.7539182512583371], 'var_ctrl_stuckat1_perm_reduced': [0.003265618792926763, 0.008634230717338187, 1.1196592083017551, 0.36831143991488235, 1.1272382517515824], 'var_ctrl_valueFlip_perm_reduced': [0.003349691468002341, 0.0005376934063501672, 0.6108575334145131, 0.17428323994596506, 0.8088449316012353], 'var_golden_model_reduced': [0.009505151971532736, 0.002325238684490896, 0.8614289289268174, 0.512059735099321, 0.7280663832150845]}\n"
     ]
    }
   ],
   "source": [
    "for model_name, model in my_experts.items():\n",
    "    predictions = my_experts[model_name].forecast(input1.values, steps=steps)\n",
    "    predictions_df = pd.DataFrame(predictions, columns=input1.columns)\n",
    "    expected = testData.iloc[finish:finish+steps,:].reset_index(drop=True)\n",
    "    RMSE = []\n",
    "    for feature in attr:\n",
    "        RMSE.append(root_mse(predictions_df[feature], expected[feature]))\n",
    "\n",
    "    prediction_error[model_name] = RMSE\n",
    "    \n",
    "print(prediction_error)"
   ]
  },
  {
   "cell_type": "code",
   "execution_count": 23,
   "id": "baf988e1-fd6a-4468-8e55-5c72ef04886a",
   "metadata": {},
   "outputs": [
    {
     "name": "stdout",
     "output_type": "stream",
     "text": [
      "[0.004098851929610022, 0.011669309952683815, 2.013310786919584, 2.238071436133283, 1.7539182512583371] 1.2042137272386995\n",
      "[0.003265618792926763, 0.008634230717338187, 1.1196592083017551, 0.36831143991488235, 1.1272382517515824] 0.525421749895697\n",
      "[0.003349691468002341, 0.0005376934063501672, 0.6108575334145131, 0.17428323994596506, 0.8088449316012353] 0.3195746179672132\n",
      "[0.009505151971532736, 0.002325238684490896, 0.8614289289268174, 0.512059735099321, 0.7280663832150845] 0.42267708757944933\n"
     ]
    }
   ],
   "source": [
    "for key, value in prediction_error.items():\n",
    "    print(prediction_error[key], np.mean(prediction_error[key]))"
   ]
  },
  {
   "cell_type": "code",
   "execution_count": 24,
   "id": "dfcb6e3c-0f43-4a6e-a48a-1bbffcf715df",
   "metadata": {},
   "outputs": [
    {
     "data": {
      "text/plain": [
       "dict"
      ]
     },
     "execution_count": 24,
     "metadata": {},
     "output_type": "execute_result"
    }
   ],
   "source": [
    "type(prediction_error)"
   ]
  },
  {
   "cell_type": "code",
   "execution_count": 25,
   "id": "61ad69c9-c5f9-4bf3-bb06-538e89dd1646",
   "metadata": {},
   "outputs": [],
   "source": [
    "def identify_fault(error_dict):\n",
    "    best_val = 100\n",
    "    best_expert = \"\"\n",
    "    for key, value in error_dict.items():\n",
    "        if np.mean(error_dict[key]) < best_val:\n",
    "            best_val = np.mean(error_dict[key])\n",
    "            best_expert = key\n",
    "    print(f'The best expert is {best_expert}')"
   ]
  },
  {
   "cell_type": "code",
   "execution_count": 26,
   "id": "d03351d0-4476-4bad-9197-7c4907f9612c",
   "metadata": {},
   "outputs": [
    {
     "name": "stdout",
     "output_type": "stream",
     "text": [
      "The best expert is var_ctrl_valueFlip_perm_reduced\n"
     ]
    }
   ],
   "source": [
    "identify_fault(prediction_error)"
   ]
  },
  {
   "cell_type": "code",
   "execution_count": 27,
   "id": "8eb57308-ff9b-4951-a67f-6021f0dcb9a2",
   "metadata": {},
   "outputs": [
    {
     "name": "stdout",
     "output_type": "stream",
     "text": [
      "Temporarily stop execution\n"
     ]
    },
    {
     "ename": "NameError",
     "evalue": "name 'stop' is not defined",
     "output_type": "error",
     "traceback": [
      "\u001b[1;31m---------------------------------------------------------------------------\u001b[0m",
      "\u001b[1;31mNameError\u001b[0m                                 Traceback (most recent call last)",
      "Input \u001b[1;32mIn [27]\u001b[0m, in \u001b[0;36m<module>\u001b[1;34m\u001b[0m\n\u001b[0;32m      1\u001b[0m \u001b[38;5;28mprint\u001b[39m(\u001b[38;5;124m\"\u001b[39m\u001b[38;5;124mTemporarily stop execution\u001b[39m\u001b[38;5;124m\"\u001b[39m)\n\u001b[1;32m----> 2\u001b[0m \u001b[38;5;28mprint\u001b[39m(\u001b[43mstop\u001b[49m)\n",
      "\u001b[1;31mNameError\u001b[0m: name 'stop' is not defined"
     ]
    }
   ],
   "source": [
    "print(\"Temporarily stop execution\")\n",
    "print(stop)"
   ]
  },
  {
   "cell_type": "code",
   "execution_count": null,
   "id": "c77f57bc-55ff-40f6-95ad-e0154639f305",
   "metadata": {},
   "outputs": [],
   "source": [
    "test_file = 'test_outputs.csv'\n",
    "# test_file = 'stuckat1_training_reduced.csv'\n",
    "# test_file = 'test_series_reduced.csv'\n",
    "# dff = pd.read_csv(test_file, index_col=0, header=0, parse_dates=True)\n",
    "dff = pd.read_csv(test_file, index_col=0, header=0)\n",
    "featt = list(pd.read_csv(test_file, index_col=0, header=0).columns.values)[1:]\n",
    "plot_series(dff, featt)"
   ]
  },
  {
   "cell_type": "code",
   "execution_count": null,
   "id": "efffe3cf-9f03-4034-b59d-c51467722871",
   "metadata": {
    "scrolled": true
   },
   "outputs": [],
   "source": [
    "def plot_dataframe(df):\n",
    "    num_series = len(df.columns)\n",
    "    fig, axes = plt.subplots(num_series, 1, figsize=(10, 5*num_series), sharex=True)\n",
    "    for i, col in enumerate(df.columns):\n",
    "        ax = axes[i] if num_series > 1 else axes\n",
    "        ax.plot(df.index, df[col])\n",
    "        ax.set_title(col)\n",
    "        ax.grid(True)\n",
    "\n",
    "    plt.tight_layout()\n",
    "    plt.show()"
   ]
  },
  {
   "cell_type": "code",
   "execution_count": null,
   "id": "01c17e77-e2e2-41fe-a6c8-ae7eb99ca1c5",
   "metadata": {},
   "outputs": [],
   "source": []
  },
  {
   "cell_type": "code",
   "execution_count": null,
   "id": "58762dab-5ebf-4ab4-bca1-1ca97ace62ef",
   "metadata": {},
   "outputs": [],
   "source": []
  }
 ],
 "metadata": {
  "kernelspec": {
   "display_name": "Python 3 (ipykernel)",
   "language": "python",
   "name": "python3"
  },
  "language_info": {
   "codemirror_mode": {
    "name": "ipython",
    "version": 3
   },
   "file_extension": ".py",
   "mimetype": "text/x-python",
   "name": "python",
   "nbconvert_exporter": "python",
   "pygments_lexer": "ipython3",
   "version": "3.10.2"
  }
 },
 "nbformat": 4,
 "nbformat_minor": 5
}
