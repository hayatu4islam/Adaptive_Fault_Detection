{
 "cells": [
  {
   "cell_type": "code",
   "execution_count": 3,
   "id": "4019e707",
   "metadata": {},
   "outputs": [],
   "source": [
    "### Import libraries\n",
    "import pandas as pd\n",
    "import matplotlib.pyplot as plt\n",
    "import yfinance as yf\n",
    "\n",
    "from adtk.data import validate_series\n",
    "from adtk.visualization import plot\n",
    "from adtk.detector import *"
   ]
  },
  {
   "cell_type": "code",
   "execution_count": 5,
   "id": "55dace06",
   "metadata": {},
   "outputs": [
    {
     "name": "stdout",
     "output_type": "stream",
     "text": [
      "       Source        Date    Mean\n",
      "0        GCAG  2016-12-06  0.7895\n",
      "1     GISTEMP  2016-12-06  0.8100\n",
      "2        GCAG  2016-11-06  0.7504\n",
      "3     GISTEMP  2016-11-06  0.9300\n",
      "4        GCAG  2016-10-06  0.7292\n",
      "...       ...         ...     ...\n",
      "3283  GISTEMP  1880-03-06 -0.1800\n",
      "3284     GCAG  1880-02-06 -0.1229\n",
      "3285  GISTEMP  1880-02-06 -0.2100\n",
      "3286     GCAG  1880-01-06  0.0009\n",
      "3287  GISTEMP  1880-01-06 -0.3000\n",
      "\n",
      "[3288 rows x 3 columns]\n"
     ]
    }
   ],
   "source": [
    "data = pd.read_csv(\"temperature.csv\")\n",
    "\n",
    "print(data)"
   ]
  },
  {
   "cell_type": "code",
   "execution_count": null,
   "id": "d13a25b8",
   "metadata": {},
   "outputs": [],
   "source": []
  }
 ],
 "metadata": {
  "kernelspec": {
   "display_name": "Python 3 (ipykernel)",
   "language": "python",
   "name": "python3"
  },
  "language_info": {
   "codemirror_mode": {
    "name": "ipython",
    "version": 3
   },
   "file_extension": ".py",
   "mimetype": "text/x-python",
   "name": "python",
   "nbconvert_exporter": "python",
   "pygments_lexer": "ipython3",
   "version": "3.10.2"
  }
 },
 "nbformat": 4,
 "nbformat_minor": 5
}
