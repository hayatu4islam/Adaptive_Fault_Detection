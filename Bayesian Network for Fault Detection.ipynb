{
 "cells": [
  {
   "cell_type": "markdown",
   "id": "4d1f2675",
   "metadata": {},
   "source": [
    "### Bayesian Network for Fault Detection"
   ]
  },
  {
   "cell_type": "code",
   "execution_count": 2,
   "id": "7fce1a75",
   "metadata": {},
   "outputs": [
    {
     "name": "stderr",
     "output_type": "stream",
     "text": [
      "C:\\Users\\user\\AppData\\Local\\Programs\\Python\\Python310\\lib\\site-packages\\pgmpy\\global_vars.py:11: UserWarning: Failed to initialize NumPy: module compiled against API version 0x10 but this version of numpy is 0xf . Check the section C-API incompatibility at the Troubleshooting ImportError section at https://numpy.org/devdocs/user/troubleshooting-importerror.html#c-api-incompatibility for indications on how to solve this problem . (Triggered internally at ..\\torch\\csrc\\utils\\tensor_numpy.cpp:84.)\n",
      "  device = torch.device(\"cpu\")\n"
     ]
    },
    {
     "name": "stdout",
     "output_type": "stream",
     "text": [
      "+----------+--------------+\n",
      "| Fault    |   phi(Fault) |\n",
      "+==========+==============+\n",
      "| Fault(0) |       0.1000 |\n",
      "+----------+--------------+\n",
      "| Fault(1) |       0.9000 |\n",
      "+----------+--------------+\n"
     ]
    }
   ],
   "source": [
    "from pgmpy.models import BayesianNetwork\n",
    "from pgmpy.factors.discrete import TabularCPD\n",
    "from pgmpy.inference import VariableElimination\n",
    "\n",
    "# Define the Bayesian Network structure\n",
    "model = BayesianNetwork([('Sensor1', 'Fault'), ('Sensor2', 'Fault')])\n",
    "\n",
    "# Define Conditional Probability Distributions (CPDs)\n",
    "cpd_sensor1 = TabularCPD(variable='Sensor1', variable_card=2, values=[[0.9], [0.1]])\n",
    "cpd_sensor2 = TabularCPD(variable='Sensor2', variable_card=2, values=[[0.8], [0.2]])\n",
    "cpd_fault = TabularCPD(variable='Fault', variable_card=2, \n",
    "                       values=[[0.99, 0.1, 0.1, 0.01],\n",
    "                               [0.01, 0.9, 0.9, 0.99]],\n",
    "                       evidence=['Sensor1', 'Sensor2'], evidence_card=[2, 2])\n",
    "\n",
    "# Add CPDs to the model\n",
    "model.add_cpds(cpd_sensor1, cpd_sensor2, cpd_fault)\n",
    "\n",
    "# Check if the model is valid\n",
    "assert model.check_model()\n",
    "\n",
    "# Perform inference (detecting faults)\n",
    "inference = VariableElimination(model)\n",
    "result = inference.query(variables=['Fault'], evidence={'Sensor1': 0, 'Sensor2': 1})\n",
    "\n",
    "print(result)\n"
   ]
  },
  {
   "cell_type": "code",
   "execution_count": null,
   "id": "ffe8aa7c",
   "metadata": {},
   "outputs": [],
   "source": []
  },
  {
   "cell_type": "code",
   "execution_count": 5,
   "id": "d52c422c",
   "metadata": {},
   "outputs": [
    {
     "name": "stdout",
     "output_type": "stream",
     "text": [
      "BayesianNetwork with 3 nodes and 2 edges\n"
     ]
    }
   ],
   "source": [
    "from pgmpy.models import BayesianNetwork\n",
    "from pgmpy.factors.discrete.CPD import TabularCPD\n",
    "student = BayesianNetwork([('diff', 'grades'), ('intel', 'grades')])\n",
    "grades_cpd = TabularCPD('grades', 3, [[0.1,0.1,0.1,0.1,0.1,0.1],\n",
    "                                      [0.1,0.1,0.1,0.1,0.1,0.1],\n",
    "                                      [0.8,0.8,0.8,0.8,0.8,0.8]],\n",
    "                        evidence=['diff', 'intel'], evidence_card=[2, 3])\n",
    "student.add_cpds(grades_cpd)\n",
    "print(student)"
   ]
  },
  {
   "cell_type": "code",
   "execution_count": null,
   "id": "f98dfe9d",
   "metadata": {},
   "outputs": [],
   "source": [
    "G = BayesianNetwork()\n",
    "G.add_nodes_from(['grade', 'intel'])\n",
    "G.add_edge('grade', 'intel')\n"
   ]
  },
  {
   "cell_type": "code",
   "execution_count": 11,
   "id": "4124cd19",
   "metadata": {},
   "outputs": [
    {
     "name": "stdout",
     "output_type": "stream",
     "text": [
      "Company           Facebook\n",
      "CEO        Mark Zuckerberg\n",
      "Name: 0, dtype: object\n",
      "Company         Apple\n",
      "CEO        Jeff Bezos\n",
      "Name: 1, dtype: object\n",
      "Company      Amazon\n",
      "CEO        Tim Cook\n",
      "Name: 2, dtype: object\n",
      "Company          Netflix\n",
      "CEO        Reed Hastings\n",
      "Name: 3, dtype: object\n"
     ]
    }
   ],
   "source": [
    "import pandas as pd\n",
    "companies = {\n",
    "    'Company': ['Facebook', 'Apple', 'Amazon', 'Netflix'],\n",
    "    'CEO': ['Mark Zuckerberg', 'Jeff Bezos', 'Tim Cook', 'Reed Hastings'],\n",
    "}\n",
    "companies_ceo = pd.DataFrame(companies)\n",
    "for row in companies_ceo.iterrows(): print(row[1])"
   ]
  },
  {
   "cell_type": "code",
   "execution_count": 3,
   "id": "ba5dfacf",
   "metadata": {},
   "outputs": [
    {
     "name": "stdout",
     "output_type": "stream",
     "text": [
      "Coursera\n"
     ]
    }
   ],
   "source": [
    "print(\"Coursera\")"
   ]
  },
  {
   "cell_type": "code",
   "execution_count": null,
   "id": "78ad3616-17c7-4d91-bb94-0986a7bd4f81",
   "metadata": {},
   "outputs": [],
   "source": []
  }
 ],
 "metadata": {
  "kernelspec": {
   "display_name": "Python 3 (ipykernel)",
   "language": "python",
   "name": "python3"
  },
  "language_info": {
   "codemirror_mode": {
    "name": "ipython",
    "version": 3
   },
   "file_extension": ".py",
   "mimetype": "text/x-python",
   "name": "python",
   "nbconvert_exporter": "python",
   "pygments_lexer": "ipython3",
   "version": "3.10.2"
  }
 },
 "nbformat": 4,
 "nbformat_minor": 5
}
