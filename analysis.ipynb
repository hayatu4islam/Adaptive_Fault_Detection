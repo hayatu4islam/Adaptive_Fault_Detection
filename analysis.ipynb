{
 "cells": [
  {
   "cell_type": "code",
   "execution_count": 1,
   "id": "553e5a94",
   "metadata": {
    "tags": [
     "parameters"
    ]
   },
   "outputs": [],
   "source": [
    "# analysis.ipynb\n",
    "\n",
    "# Parameters\n",
    "length = 0  # default value\n",
    "width = 0   # default value\n",
    "\n",
    "\n"
   ]
  },
  {
   "cell_type": "code",
   "execution_count": 2,
   "id": "faafe913",
   "metadata": {},
   "outputs": [
    {
     "name": "stdout",
     "output_type": "stream",
     "text": [
      "Area of the rectangle: 0\n"
     ]
    }
   ],
   "source": [
    "# Get parameters from Papermill or script\n",
    "# This allows you to set different values when executing the notebook\n",
    "# try:\n",
    "#     length = int(sys.argv[1])\n",
    "#     width = int(sys.argv[2])\n",
    "# except IndexError:\n",
    "#     pass\n",
    "\n",
    "# Calculate area\n",
    "area = length * width\n",
    "\n",
    "# Display result\n",
    "result =f\"Area of the rectangle: {area}\"\n",
    "print(result)\n",
    "\n",
    "# Save result to a file\n",
    "with open('test_result.txt', 'a') as file:\n",
    "    file.write(result + '\\n')"
   ]
  },
  {
   "cell_type": "code",
   "execution_count": 3,
   "id": "33282186",
   "metadata": {},
   "outputs": [],
   "source": [
    "import time"
   ]
  },
  {
   "cell_type": "code",
   "execution_count": 4,
   "id": "d8d7b397",
   "metadata": {},
   "outputs": [
    {
     "name": "stdout",
     "output_type": "stream",
     "text": [
      "The sum is 2450\n",
      "The function took 0.5028038024902344 seconds to complete\n"
     ]
    }
   ],
   "source": [
    "def computeSumEven(n):\n",
    "    start = time.time()\n",
    "    time.sleep(0.5)\n",
    "    sum = 0\n",
    "    for i in range(n):\n",
    "        if i % 2 == 0:\n",
    "           sum += i\n",
    "    print(f'The sum is {sum}')\n",
    "    print(f'The function took {time.time() - start} seconds to complete')\n",
    "computeSumEven(100)"
   ]
  },
  {
   "cell_type": "code",
   "execution_count": 6,
   "id": "40c171c2",
   "metadata": {},
   "outputs": [
    {
     "name": "stdin",
     "output_type": "stream",
     "text": [
      "Enter a number:  5\n"
     ]
    },
    {
     "name": "stdout",
     "output_type": "stream",
     "text": [
      "1\n",
      "121\n",
      "12321\n",
      "1234321\n",
      "123454321\n"
     ]
    }
   ],
   "source": [
    "n = int(input(\"Enter a number: \"))\n",
    "\n",
    "if n < 2:\n",
    "    print(\"Please enter a number greater than or equal to 2.\")\n",
    "else:\n",
    "    for i in range(1, n + 1):\n",
    "        for j in range(1, i + 1):\n",
    "            print(j, end='')\n",
    "        for j in range(i - 1, 0, -1):\n",
    "            print(j, end='')\n",
    "        print()\n"
   ]
  },
  {
   "cell_type": "code",
   "execution_count": 16,
   "id": "5bd7ce16",
   "metadata": {},
   "outputs": [],
   "source": [
    "import plotly\n",
    "import dash"
   ]
  },
  {
   "cell_type": "code",
   "execution_count": 1,
   "id": "bd8186a6",
   "metadata": {},
   "outputs": [
    {
     "name": "stdout",
     "output_type": "stream",
     "text": [
      "Coding\n"
     ]
    }
   ],
   "source": [
    "print(\"Coding\")"
   ]
  },
  {
   "cell_type": "markdown",
   "id": "6e658723-1742-45a9-895e-e37f81d7c424",
   "metadata": {},
   "source": [
    "### Calculating derivatives in python"
   ]
  },
  {
   "cell_type": "code",
   "execution_count": 2,
   "id": "32c7242e-f625-4e3b-ab11-68c177f48b64",
   "metadata": {},
   "outputs": [],
   "source": [
    "import numpy as np\n",
    "import matplotlib.pyplot as plt"
   ]
  },
  {
   "cell_type": "code",
   "execution_count": 1,
   "id": "06a1805f-57bf-4515-9e02-e4c622895505",
   "metadata": {},
   "outputs": [
    {
     "name": "stdout",
     "output_type": "stream",
     "text": [
      "This is the first commit in 2024\n"
     ]
    }
   ],
   "source": [
    "print(\"This is the first commit in 2024\")"
   ]
  },
  {
   "cell_type": "code",
   "execution_count": 2,
   "id": "d986a7ea-9bf6-4500-98f2-9aebb9d8bec7",
   "metadata": {},
   "outputs": [
    {
     "name": "stdout",
     "output_type": "stream",
     "text": [
      "Exposition\n"
     ]
    }
   ],
   "source": [
    "print(\"Exposition\")"
   ]
  },
  {
   "cell_type": "code",
   "execution_count": null,
   "id": "a756667a-c605-40f8-b0c4-8d92809bd1e2",
   "metadata": {},
   "outputs": [],
   "source": []
  }
 ],
 "metadata": {
  "celltoolbar": "Tags",
  "kernelspec": {
   "display_name": "Python 3 (ipykernel)",
   "language": "python",
   "name": "python3"
  },
  "language_info": {
   "codemirror_mode": {
    "name": "ipython",
    "version": 3
   },
   "file_extension": ".py",
   "mimetype": "text/x-python",
   "name": "python",
   "nbconvert_exporter": "python",
   "pygments_lexer": "ipython3",
   "version": "3.10.2"
  }
 },
 "nbformat": 4,
 "nbformat_minor": 5
}
