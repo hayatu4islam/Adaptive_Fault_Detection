{
 "cells": [
  {
   "cell_type": "code",
   "execution_count": null,
   "id": "553e5a94",
   "metadata": {
    "tags": [
     "parameters"
    ]
   },
   "outputs": [],
   "source": [
    "# analysis.ipynb\n",
    "\n",
    "# Parameters\n",
    "length = 0  # default value\n",
    "width = 0   # default value\n",
    "\n",
    "\n"
   ]
  },
  {
   "cell_type": "code",
   "execution_count": null,
   "id": "faafe913",
   "metadata": {},
   "outputs": [],
   "source": [
    "# Get parameters from Papermill or script\n",
    "# This allows you to set different values when executing the notebook\n",
    "# try:\n",
    "#     length = int(sys.argv[1])\n",
    "#     width = int(sys.argv[2])\n",
    "# except IndexError:\n",
    "#     pass\n",
    "\n",
    "# Calculate area\n",
    "area = length * width\n",
    "\n",
    "# Display result\n",
    "result =f\"Area of the rectangle: {area}\"\n",
    "print(result)\n",
    "\n",
    "# Save result to a file\n",
    "with open('test_result.txt', 'a') as file:\n",
    "    file.write(result + '\\n')"
   ]
  }
 ],
 "metadata": {
  "celltoolbar": "Tags",
  "kernelspec": {
   "display_name": "Python 3 (ipykernel)",
   "language": "python",
   "name": "python3"
  },
  "language_info": {
   "codemirror_mode": {
    "name": "ipython",
    "version": 3
   },
   "file_extension": ".py",
   "mimetype": "text/x-python",
   "name": "python",
   "nbconvert_exporter": "python",
   "pygments_lexer": "ipython3",
   "version": "3.10.2"
  }
 },
 "nbformat": 4,
 "nbformat_minor": 5
}
