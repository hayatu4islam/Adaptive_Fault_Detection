{
 "cells": [
  {
   "cell_type": "code",
   "execution_count": 1,
   "id": "553e5a94",
   "metadata": {
    "execution": {
     "iopub.execute_input": "2023-10-05T12:50:11.599908Z",
     "iopub.status.busy": "2023-10-05T12:50:11.598915Z",
     "iopub.status.idle": "2023-10-05T12:50:11.605564Z",
     "shell.execute_reply": "2023-10-05T12:50:11.604547Z"
    },
    "papermill": {
     "duration": 0.018533,
     "end_time": "2023-10-05T12:50:11.605564",
     "exception": false,
     "start_time": "2023-10-05T12:50:11.587031",
     "status": "completed"
    },
    "tags": [
     "parameters"
    ]
   },
   "outputs": [],
   "source": [
    "# analysis.ipynb\n",
    "\n",
    "# Parameters\n",
    "length = 0  # default value\n",
    "width = 0   # default value\n",
    "\n",
    "\n"
   ]
  },
  {
   "cell_type": "code",
   "execution_count": 2,
   "id": "108ef295",
   "metadata": {
    "execution": {
     "iopub.execute_input": "2023-10-05T12:50:11.616552Z",
     "iopub.status.busy": "2023-10-05T12:50:11.615547Z",
     "iopub.status.idle": "2023-10-05T12:50:11.620551Z",
     "shell.execute_reply": "2023-10-05T12:50:11.619545Z"
    },
    "papermill": {
     "duration": 0.011985,
     "end_time": "2023-10-05T12:50:11.620551",
     "exception": false,
     "start_time": "2023-10-05T12:50:11.608566",
     "status": "completed"
    },
    "tags": [
     "injected-parameters"
    ]
   },
   "outputs": [],
   "source": [
    "# Parameters\n",
    "length = 10\n",
    "width = 10\n"
   ]
  },
  {
   "cell_type": "code",
   "execution_count": 3,
   "id": "faafe913",
   "metadata": {
    "execution": {
     "iopub.execute_input": "2023-10-05T12:50:11.632545Z",
     "iopub.status.busy": "2023-10-05T12:50:11.631545Z",
     "iopub.status.idle": "2023-10-05T12:50:11.650910Z",
     "shell.execute_reply": "2023-10-05T12:50:11.650910Z"
    },
    "papermill": {
     "duration": 0.026352,
     "end_time": "2023-10-05T12:50:11.650910",
     "exception": false,
     "start_time": "2023-10-05T12:50:11.624558",
     "status": "completed"
    },
    "tags": []
   },
   "outputs": [
    {
     "name": "stdout",
     "output_type": "stream",
     "text": [
      "Area of the rectangle: 100\n"
     ]
    }
   ],
   "source": [
    "# Get parameters from Papermill or script\n",
    "# This allows you to set different values when executing the notebook\n",
    "# try:\n",
    "#     length = int(sys.argv[1])\n",
    "#     width = int(sys.argv[2])\n",
    "# except IndexError:\n",
    "#     pass\n",
    "\n",
    "# Calculate area\n",
    "area = length * width\n",
    "\n",
    "# Display result\n",
    "result =f\"Area of the rectangle: {area}\"\n",
    "print(result)\n",
    "\n",
    "# Save result to a file\n",
    "with open('test_result.txt', 'a') as file:\n",
    "    file.write(result + '\\n')"
   ]
  }
 ],
 "metadata": {
  "celltoolbar": "Tags",
  "kernelspec": {
   "display_name": "Python 3 (ipykernel)",
   "language": "python",
   "name": "python3"
  },
  "language_info": {
   "codemirror_mode": {
    "name": "ipython",
    "version": 3
   },
   "file_extension": ".py",
   "mimetype": "text/x-python",
   "name": "python",
   "nbconvert_exporter": "python",
   "pygments_lexer": "ipython3",
   "version": "3.10.2"
  },
  "papermill": {
   "default_parameters": {},
   "duration": 2.599312,
   "end_time": "2023-10-05T12:50:11.882721",
   "environment_variables": {},
   "exception": null,
   "input_path": "analysis.ipynb",
   "output_path": "output_notebook.ipynb",
   "parameters": {
    "length": 10,
    "width": 10
   },
   "start_time": "2023-10-05T12:50:09.283409",
   "version": "2.4.0"
  }
 },
 "nbformat": 4,
 "nbformat_minor": 5
}