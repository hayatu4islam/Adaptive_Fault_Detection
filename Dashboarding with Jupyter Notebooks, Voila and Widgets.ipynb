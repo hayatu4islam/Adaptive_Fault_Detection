{
 "cells": [
  {
   "cell_type": "code",
   "execution_count": 1,
   "id": "bba92c0f",
   "metadata": {},
   "outputs": [],
   "source": [
    "%matplotlib inline"
   ]
  },
  {
   "cell_type": "code",
   "execution_count": null,
   "id": "54d1f3d0",
   "metadata": {},
   "outputs": [],
   "source": []
  },
  {
   "cell_type": "code",
   "execution_count": 6,
   "id": "75c5db1b",
   "metadata": {},
   "outputs": [],
   "source": [
    "from bqplot import pyplot as plt\n",
    "import ipywidgets as widgets\n",
    "import numpy as np"
   ]
  },
  {
   "cell_type": "code",
   "execution_count": 7,
   "id": "2ac205f4",
   "metadata": {},
   "outputs": [],
   "source": [
    "# Generate some fake data\n",
    "n = 2000\n",
    "x = np.linspace(0, 10, n)\n",
    "np.random.seed(0)\n",
    "y = np.cumsum(np.random.randn(n)*10).astype(int)"
   ]
  },
  {
   "cell_type": "code",
   "execution_count": 12,
   "id": "c8fbd636",
   "metadata": {},
   "outputs": [
    {
     "data": {
      "application/vnd.jupyter.widget-view+json": {
       "model_id": "0994435d30ec46d0b70cdcb2750a49fc",
       "version_major": 2,
       "version_minor": 0
      },
      "text/plain": [
       "Figure(axes=[Axis(orientation='vertical', scale=LinearScale()), Axis(scale=LinearScale())], fig_margin={'top':…"
      ]
     },
     "metadata": {},
     "output_type": "display_data"
    }
   ],
   "source": [
    "fig_hist = plt.figure(title='Histogram')\n",
    "hist = plt.hist(y, bins=25)\n",
    "fig_hist\n",
    "# plt.show()"
   ]
  },
  {
   "cell_type": "code",
   "execution_count": 13,
   "id": "6ef7f3f2",
   "metadata": {},
   "outputs": [],
   "source": [
    "hist.bins = 20"
   ]
  },
  {
   "cell_type": "code",
   "execution_count": 14,
   "id": "84aa2033",
   "metadata": {},
   "outputs": [
    {
     "data": {
      "application/vnd.jupyter.widget-view+json": {
       "model_id": "a3497eaf51bb442eacaf5eae7ed047f4",
       "version_major": 2,
       "version_minor": 0
      },
      "text/plain": [
       "IntSlider(value=1, min=1)"
      ]
     },
     "metadata": {},
     "output_type": "display_data"
    }
   ],
   "source": [
    "slider = widgets.IntSlider(min=1, max=100, v_model=30)\n",
    "slider"
   ]
  },
  {
   "cell_type": "code",
   "execution_count": 15,
   "id": "d44bc8f1",
   "metadata": {},
   "outputs": [
    {
     "data": {
      "text/plain": [
       "1"
      ]
     },
     "execution_count": 15,
     "metadata": {},
     "output_type": "execute_result"
    }
   ],
   "source": [
    "# slider.value = 40\n",
    "slider.value"
   ]
  },
  {
   "cell_type": "code",
   "execution_count": 16,
   "id": "46acc1fb",
   "metadata": {},
   "outputs": [],
   "source": [
    "widgets.link((hist, 'bins'), (slider, 'value'));"
   ]
  },
  {
   "cell_type": "code",
   "execution_count": 17,
   "id": "04dfaf39",
   "metadata": {},
   "outputs": [
    {
     "data": {
      "application/vnd.jupyter.widget-view+json": {
       "model_id": "a725af48a94e480d91bea1b846471e8d",
       "version_major": 2,
       "version_minor": 0
      },
      "text/plain": [
       "Figure(axes=[Axis(scale=LinearScale()), Axis(orientation='vertical', scale=LinearScale())], fig_margin={'top':…"
      ]
     },
     "metadata": {},
     "output_type": "display_data"
    }
   ],
   "source": [
    "fig_lines = plt.figure( title='Line Chart')\n",
    "lines = plt.plot(x, y)\n",
    "fig_lines"
   ]
  },
  {
   "cell_type": "code",
   "execution_count": 19,
   "id": "9b2a049f",
   "metadata": {},
   "outputs": [
    {
     "data": {
      "application/vnd.jupyter.widget-view+json": {
       "model_id": "a6fe2234bdb042f79693d1dc9424be62",
       "version_major": 2,
       "version_minor": 0
      },
      "text/plain": [
       "Figure(axes=[Axis(orientation='vertical', scale=LinearScale()), Axis(scale=LinearScale())], fig_margin={'top':…"
      ]
     },
     "metadata": {},
     "output_type": "display_data"
    },
    {
     "name": "stdout",
     "output_type": "stream",
     "text": [
      "FInished\n"
     ]
    }
   ],
   "source": [
    "from bqplot import pyplot as plt\n",
    "import ipywidgets as widgets\n",
    "import numpy as np\n",
    "from IPython.display import display  # Import the display function\n",
    "\n",
    "# Generate some fake data\n",
    "n = 2000\n",
    "x = np.linspace(0, 10, n)\n",
    "np.random.seed(0)\n",
    "y = np.cumsum(np.random.randn(n) * 10).astype(int)\n",
    "fig_hist = plt.figure(title='Histogram')\n",
    "hist = plt.hist(y, bins=25)\n",
    "\n",
    "# Display the histogram figure\n",
    "display(fig_hist)\n",
    "print(\"FInished\")"
   ]
  },
  {
   "cell_type": "code",
   "execution_count": 20,
   "id": "08c71c5b",
   "metadata": {},
   "outputs": [
    {
     "data": {
      "application/vnd.jupyter.widget-view+json": {
       "model_id": "b220d0e9ccec4381a02104ea78294a1a",
       "version_major": 2,
       "version_minor": 0
      },
      "text/plain": [
       "Figure(fig_margin={'top': 60, 'bottom': 60, 'left': 60, 'right': 60}, marks=[Hist(bins=25, colors=['steelblue'…"
      ]
     },
     "metadata": {},
     "output_type": "display_data"
    }
   ],
   "source": [
    "import bqplot\n",
    "import ipywidgets as widgets\n",
    "import numpy as np\n",
    "from IPython.display import display\n",
    "\n",
    "# Generate some fake data\n",
    "n = 2000\n",
    "x = np.linspace(0, 10, n)\n",
    "np.random.seed(0)\n",
    "y = np.cumsum(np.random.randn(n) * 10).astype(int)\n",
    "\n",
    "# Create a histogram\n",
    "hist = bqplot.pyplot.hist(y, bins=25)\n",
    "hist_fig = bqplot.Figure(marks=[hist], title='Histogram')\n",
    "\n",
    "# Display the histogram figure\n",
    "display(hist_fig)\n"
   ]
  },
  {
   "cell_type": "code",
   "execution_count": null,
   "id": "1fe001e4",
   "metadata": {},
   "outputs": [],
   "source": []
  }
 ],
 "metadata": {
  "kernelspec": {
   "display_name": "Python 3 (ipykernel)",
   "language": "python",
   "name": "python3"
  },
  "language_info": {
   "codemirror_mode": {
    "name": "ipython",
    "version": 3
   },
   "file_extension": ".py",
   "mimetype": "text/x-python",
   "name": "python",
   "nbconvert_exporter": "python",
   "pygments_lexer": "ipython3",
   "version": "3.10.2"
  }
 },
 "nbformat": 4,
 "nbformat_minor": 5
}
