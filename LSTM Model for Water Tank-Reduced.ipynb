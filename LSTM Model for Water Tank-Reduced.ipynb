{
 "cells": [
  {
   "cell_type": "markdown",
   "id": "22e0bcfa",
   "metadata": {},
   "source": [
    "### LSTM Model for Water Tank-Reduced"
   ]
  },
  {
   "cell_type": "code",
   "execution_count": 4,
   "id": "9e32a76e",
   "metadata": {},
   "outputs": [
    {
     "name": "stdout",
     "output_type": "stream",
     "text": [
      "Mean Squared Error: 0.00133044202812016\n",
      "(8982, 5)\n",
      "[[ 4.9809974e-01  3.8664204e+01 -1.6474215e-02  1.5086703e+00\n",
      "   5.2293483e-03]\n",
      " [ 4.9547213e-01  3.8918831e+01 -1.4409728e-02  1.5336715e+00\n",
      "  -1.2669170e-02]\n",
      " [ 4.9749076e-01  3.8896137e+01 -4.1355014e-02  1.5557166e+00\n",
      "  -1.1350056e-02]\n",
      " ...\n",
      " [ 5.1383328e-01  4.3201515e+01 -7.0882320e-02  2.0263791e+00\n",
      "   6.8684146e-03]\n",
      " [ 4.9453485e-01  4.3045006e+01 -1.1355104e-01  2.0095708e+00\n",
      "   3.6364675e-02]\n",
      " [ 4.9417013e-01  4.3312443e+01  1.0552127e-04  2.0317867e+00\n",
      "   6.4567372e-02]]\n",
      "Root Mean Squared Error: 0.2887276467384341\n",
      "----------Learning Curve----------\n"
     ]
    },
    {
     "data": {
      "image/png": "[encoded data removed]",
      "text/plain": [
       "<Figure size 432x288 with 1 Axes>"
      ]
     },
     "metadata": {
      "needs_background": "light"
     },
     "output_type": "display_data"
    },
    {
     "name": "stdout",
     "output_type": "stream",
     "text": [
      "Model: \"sequential_3\"\n",
      "_________________________________________________________________\n",
      " Layer (type)                Output Shape              Param #   \n",
      "=================================================================\n",
      " lstm_6 (LSTM)               (None, 100)               42400     \n",
      "                                                                 \n",
      " repeat_vector_3 (RepeatVect  (None, 3, 100)           0         \n",
      " or)                                                             \n",
      "                                                                 \n",
      " lstm_7 (LSTM)               (None, 3, 100)            80400     \n",
      "                                                                 \n",
      " time_distributed_3 (TimeDis  (None, 3, 5)             505       \n",
      " tributed)                                                       \n",
      "                                                                 \n",
      "=================================================================\n",
      "Total params: 123,305\n",
      "Trainable params: 123,305\n",
      "Non-trainable params: 0\n",
      "_________________________________________________________________\n"
     ]
    }
   ],
   "source": [
    "import numpy as np\n",
    "import pandas as pd\n",
    "import matplotlib.pyplot as plt\n",
    "from sklearn.preprocessing import MinMaxScaler\n",
    "from tensorflow.keras.models import Sequential\n",
    "from tensorflow.keras.layers import LSTM, Dense, RepeatVector, TimeDistributed\n",
    "\n",
    "# Load and preprocess data\n",
    "data = pd.read_csv('waterTank_Golden_reduced.csv', header=0, index_col=0)\n",
    "raw_data = data.values\n",
    "scaler = MinMaxScaler()\n",
    "data_scaled = scaler.fit_transform(raw_data)\n",
    "\n",
    "# Split data into train and test sets\n",
    "# train_size = int(len(data) * 0.7)\n",
    "train_size = 12000\n",
    "test_size = len(data) - train_size\n",
    "train, test = data_scaled[0:train_size,:], data_scaled[train_size:len(data),:]\n",
    "\n",
    "# Define the number of time steps and features\n",
    "n_steps_in = 5\n",
    "n_steps_out = 3\n",
    "n_features = data.shape[1]\n",
    "\n",
    "# Reshape data for LSTM\n",
    "def split_sequence(sequence, n_steps_in, n_steps_out):\n",
    "    X, y = [], []\n",
    "    for i in range(len(sequence)):\n",
    "        end_ix = i + n_steps_in\n",
    "        out_end_ix = end_ix + n_steps_out - 1\n",
    "        if out_end_ix > len(sequence)-1:\n",
    "            break\n",
    "        seq_x, seq_y = sequence[i:end_ix, :], sequence[end_ix-1:out_end_ix, :]\n",
    "        X.append(seq_x)\n",
    "        y.append(seq_y)\n",
    "    return np.array(X), np.array(y)\n",
    "\n",
    "X_train, y_train = split_sequence(train, n_steps_in, n_steps_out)\n",
    "X_test, y_test = split_sequence(test, n_steps_in, n_steps_out)\n",
    "\n",
    "# Define the LSTM model\n",
    "model = Sequential()\n",
    "model.add(LSTM(100, activation='relu', input_shape=(n_steps_in, n_features)))\n",
    "model.add(RepeatVector(n_steps_out))\n",
    "model.add(LSTM(100, activation='relu', return_sequences=True))\n",
    "model.add(TimeDistributed(Dense(n_features)))\n",
    "\n",
    "# Compile and fit the model\n",
    "model.compile(optimizer='adam', loss='mse')\n",
    "train_history = model.fit(X_train, y_train, epochs=10, batch_size=32, verbose=0)\n",
    "\n",
    "# Evaluate the model\n",
    "mse = model.evaluate(X_test, y_test, verbose=0)\n",
    "print('Mean Squared Error:', mse)\n",
    "\n",
    "# Make predictions on test data\n",
    "y_pred = model.predict(X_test)\n",
    "\n",
    "# Reshape predictions for inverse scaling\n",
    "# y_pred_reshaped = y_pred.reshape((y_pred.shape[0]*y_pred.shape[1], n_steps_out, n_features))\n",
    "# y_test_reshaped = y_test.reshape((y_test.shape[0]*y_test.shape[1], n_steps_out, n_features))\n",
    "\n",
    "# Extract only the result of prediction for n_steps_out=3\n",
    "result_pred = y_pred[:, -n_steps_out:, :]\n",
    "\n",
    "# Reshaping\n",
    "\n",
    "\n",
    "# Inverse scale predictions and test data\n",
    "result_pred_inv = scaler.inverse_transform(result_pred.reshape(-1, n_features))\n",
    "y_test_inv = scaler.inverse_transform(y_test.reshape(-1, n_features))\n",
    "\n",
    "print(result_pred_inv.shape)\n",
    "print(result_pred_inv)\n",
    "# Calculate RMSE\n",
    "# rmse = np.sqrt(np.mean((y_pred_inv - y_test_inv)**2))\n",
    "rmse = np.sqrt(np.mean((result_pred_inv - y_test_inv)**2))\n",
    "print('Root Mean Squared Error:', rmse)\n",
    "\n",
    "# Plot curve\n",
    "print(\"----------Learning Curve----------\")\n",
    "plt.plot(train_history.history['loss'], label='Train')\n",
    "plt.xlabel(\"Epochs\")\n",
    "plt.ylabel(\"Loss\")\n",
    "plt.legend()\n",
    "plt.show()\n",
    "\n",
    "model.summary()"
   ]
  },
  {
   "cell_type": "code",
   "execution_count": null,
   "id": "74e8af27",
   "metadata": {},
   "outputs": [],
   "source": []
  }
 ],
 "metadata": {
  "kernelspec": {
   "display_name": "Python 3 (ipykernel)",
   "language": "python",
   "name": "python3"
  },
  "language_info": {
   "codemirror_mode": {
    "name": "ipython",
    "version": 3
   },
   "file_extension": ".py",
   "mimetype": "text/x-python",
   "name": "python",
   "nbconvert_exporter": "python",
   "pygments_lexer": "ipython3",
   "version": "3.10.2"
  }
 },
 "nbformat": 4,
 "nbformat_minor": 5
}
