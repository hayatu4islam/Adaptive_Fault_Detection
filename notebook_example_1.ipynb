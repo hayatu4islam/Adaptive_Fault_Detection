{
 "cells": [
  {
   "cell_type": "code",
   "execution_count": null,
   "id": "64c31f2f",
   "metadata": {
    "tags": [
     "parameters"
    ]
   },
   "outputs": [],
   "source": [
    "# notebook_example_1.ipynb\n",
    "\n",
    "# Parameters\n",
    "a = 5\n",
    "b = 3\n",
    "\n"
   ]
  },
  {
   "cell_type": "code",
   "execution_count": null,
   "id": "04c502c8",
   "metadata": {},
   "outputs": [],
   "source": [
    "# Perform arithmetic operations\n",
    "sum_result = a + b\n",
    "product_result = a * b\n",
    "result = f\"The sum is {sum_result}, and the product is {product_result}\"\n",
    "\n",
    "# Display results\n",
    "print(f\"Sum: {sum_result}\")\n",
    "print(f\"Product: {product_result}\")\n",
    "\n",
    "# Save result to a file\n",
    "with open('test_result.txt', 'a') as file:\n",
    "    file.write(result + '\\n')"
   ]
  }
 ],
 "metadata": {
  "celltoolbar": "Tags",
  "kernelspec": {
   "display_name": "Python 3 (ipykernel)",
   "language": "python",
   "name": "python3"
  },
  "language_info": {
   "codemirror_mode": {
    "name": "ipython",
    "version": 3
   },
   "file_extension": ".py",
   "mimetype": "text/x-python",
   "name": "python",
   "nbconvert_exporter": "python",
   "pygments_lexer": "ipython3",
   "version": "3.10.2"
  }
 },
 "nbformat": 4,
 "nbformat_minor": 5
}
