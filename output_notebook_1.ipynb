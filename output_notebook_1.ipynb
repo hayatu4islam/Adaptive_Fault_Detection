{
 "cells": [
  {
   "cell_type": "code",
   "execution_count": 1,
   "id": "64c31f2f",
   "metadata": {
    "execution": {
     "iopub.execute_input": "2023-10-05T12:53:25.896315Z",
     "iopub.status.busy": "2023-10-05T12:53:25.895314Z",
     "iopub.status.idle": "2023-10-05T12:53:25.909979Z",
     "shell.execute_reply": "2023-10-05T12:53:25.909979Z"
    },
    "papermill": {
     "duration": 0.035542,
     "end_time": "2023-10-05T12:53:25.910979",
     "exception": false,
     "start_time": "2023-10-05T12:53:25.875437",
     "status": "completed"
    },
    "tags": [
     "parameters"
    ]
   },
   "outputs": [],
   "source": [
    "# notebook_example_1.ipynb\n",
    "\n",
    "# Parameters\n",
    "a = 5\n",
    "b = 3\n",
    "\n"
   ]
  },
  {
   "cell_type": "code",
   "execution_count": 2,
   "id": "67983126",
   "metadata": {
    "execution": {
     "iopub.execute_input": "2023-10-05T12:53:25.930962Z",
     "iopub.status.busy": "2023-10-05T12:53:25.929963Z",
     "iopub.status.idle": "2023-10-05T12:53:25.941315Z",
     "shell.execute_reply": "2023-10-05T12:53:25.940301Z"
    },
    "papermill": {
     "duration": 0.024361,
     "end_time": "2023-10-05T12:53:25.941315",
     "exception": false,
     "start_time": "2023-10-05T12:53:25.916954",
     "status": "completed"
    },
    "tags": [
     "injected-parameters"
    ]
   },
   "outputs": [],
   "source": [
    "# Parameters\n",
    "a = 10\n",
    "b = 5\n"
   ]
  },
  {
   "cell_type": "code",
   "execution_count": 3,
   "id": "04c502c8",
   "metadata": {
    "execution": {
     "iopub.execute_input": "2023-10-05T12:53:25.962296Z",
     "iopub.status.busy": "2023-10-05T12:53:25.961297Z",
     "iopub.status.idle": "2023-10-05T12:53:25.986486Z",
     "shell.execute_reply": "2023-10-05T12:53:25.986486Z"
    },
    "papermill": {
     "duration": 0.039174,
     "end_time": "2023-10-05T12:53:25.986486",
     "exception": false,
     "start_time": "2023-10-05T12:53:25.947312",
     "status": "completed"
    },
    "tags": []
   },
   "outputs": [
    {
     "name": "stdout",
     "output_type": "stream",
     "text": [
      "Sum: 15\n",
      "Product: 50\n"
     ]
    }
   ],
   "source": [
    "# Perform arithmetic operations\n",
    "sum_result = a + b\n",
    "product_result = a * b\n",
    "result = f\"The sum is {sum_result}, and the product is {product_result}\"\n",
    "\n",
    "# Display results\n",
    "print(f\"Sum: {sum_result}\")\n",
    "print(f\"Product: {product_result}\")\n",
    "\n",
    "# Save result to a file\n",
    "with open('test_result.txt', 'a') as file:\n",
    "    file.write(result + '\\n')"
   ]
  }
 ],
 "metadata": {
  "celltoolbar": "Tags",
  "kernelspec": {
   "display_name": "Python 3 (ipykernel)",
   "language": "python",
   "name": "python3"
  },
  "language_info": {
   "codemirror_mode": {
    "name": "ipython",
    "version": 3
   },
   "file_extension": ".py",
   "mimetype": "text/x-python",
   "name": "python",
   "nbconvert_exporter": "python",
   "pygments_lexer": "ipython3",
   "version": "3.10.2"
  },
  "papermill": {
   "default_parameters": {},
   "duration": 2.630983,
   "end_time": "2023-10-05T12:53:26.221981",
   "environment_variables": {},
   "exception": null,
   "input_path": "notebook_example_1.ipynb",
   "output_path": "output_notebook_1.ipynb",
   "parameters": {
    "a": 10,
    "b": 5
   },
   "start_time": "2023-10-05T12:53:23.590998",
   "version": "2.4.0"
  }
 },
 "nbformat": 4,
 "nbformat_minor": 5
}